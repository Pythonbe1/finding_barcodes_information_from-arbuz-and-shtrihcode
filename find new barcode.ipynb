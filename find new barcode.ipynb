{
 "cells": [
  {
   "cell_type": "markdown",
   "metadata": {},
   "source": [
    "Created by Bekbol Sultankulov, Data scientist"
   ]
  },
  {
   "cell_type": "markdown",
   "metadata": {},
   "source": [
    "#  parsing arbuz.kz"
   ]
  },
  {
   "cell_type": "code",
   "execution_count": null,
   "metadata": {},
   "outputs": [],
   "source": [
    "from bs4 import BeautifulSoup\n",
    "from selenium import webdriver\n",
    "from selenium.webdriver.common.keys import Keys\n",
    "import time\n",
    "from selenium.common.exceptions import ElementClickInterceptedException\n",
    "from selenium.common.exceptions import NoSuchElementException\n",
    "driver = webdriver.Chrome(executable_path='C:\\\\Users\\\\svnduw\\\\.wdm\\\\drivers\\\\chromedriver\\\\win32\\\\91.0.4472.101\\\\chromedriver.exe')\n",
    "driver.maximize_window()\n",
    "driver.get(\"https://arbuz.kz/\")\n",
    "time.sleep(5)\n",
    "driver.find_element_by_xpath('//*[@id=\"layout\"]/div/div[1]/div/div/button/span').click()\n",
    "data={}\n",
    "for i in product_names:\n",
    "    try:\n",
    "        searchBox=driver.find_element_by_xpath('//*[@id=\"layout\"]/main/header/div[2]/div/div[3]/div/div[1]/form/input') \n",
    "        searchBox.clear()\n",
    "        searchBox.send_keys(str(i))\n",
    "        searchBox.send_keys(Keys.RETURN)\n",
    "        time.sleep(2)\n",
    "        driver.find_element_by_xpath('//*[@id=\"layout\"]/main/section[2]/div[2]/div/div[1]/div/div/article/div/div[1]/div/div/div[1]/a').click()\n",
    "        html = driver.page_source\n",
    "        soup = BeautifulSoup(html)\n",
    "        a=''\n",
    "        for tag in soup.find_all('ol'):\n",
    "            a=tag.text\n",
    "        data[i]=a\n",
    "    except ElementClickInterceptedException:\n",
    "        driver.find_element_by_xpath('//*[@id=\"layout\"]/div[2]/div/div/button/span').click()\n",
    "        driver.find_element_by_xpath('//*[@id=\"layout\"]/main/section[2]/div[2]/div/div[1]/div/div/article/div/div[1]/div/div/div[1]/a').click()\n",
    "        html = driver.page_source\n",
    "        soup = BeautifulSoup(html)\n",
    "        a=''\n",
    "        for tag in soup.find_all('ol'):\n",
    "            a=tag.text\n",
    "        data[i]=a\n",
    "    except NoSuchElementException:\n",
    "        data[i]='Not found'        \n",
    "        continue\n",
    "    "
   ]
  },
  {
   "cell_type": "markdown",
   "metadata": {},
   "source": [
    "# Finding new barcodes by parsing shtrih-kody.ru/"
   ]
  },
  {
   "cell_type": "code",
   "execution_count": null,
   "metadata": {},
   "outputs": [],
   "source": [
    "from bs4 import BeautifulSoup\n",
    "from selenium import webdriver\n",
    "from selenium.webdriver.common.keys import Keys\n",
    "import time\n",
    "from selenium.webdriver.chrome.options import Options\n",
    "from fake_useragent import UserAgent\n",
    "from selenium.common.exceptions import ElementClickInterceptedException\n",
    "from selenium.common.exceptions import NoSuchElementException\n",
    "options = Options()\n",
    "ua = UserAgent()\n",
    "userAgent = ua.random\n",
    "options.add_argument(f'user-agent={userAgent}')\n",
    "driver = webdriver.Chrome(executable_path='C:\\\\Users\\\\svnduw\\\\.wdm\\\\drivers\\\\chromedriver\\\\win32\\\\93.0.4577.15\\\\chromedriver.exe',chrome_options=options)\n",
    "driver.get(\"https://shtrih-kody.ru/\")\n",
    "time.sleep(2)\n",
    "barcode=[]\n",
    "name=[]\n",
    "category=[]\n",
    "brand=[]\n",
    "#country=[]\n",
    "for i in range(len(barcodes)):\n",
    "    try:        \n",
    "        inputElems = driver.find_element_by_css_selector('input[name=txt]')\n",
    "        inputElems.clear()\n",
    "        inputElems.send_keys(str(barcodes[i]))\n",
    "        inputElems.send_keys(Keys.ENTER)\n",
    "        time.sleep(1)\n",
    "        count = driver.find_elements_by_xpath('/html/body/div/p')\n",
    "        if len(count)==4:            \n",
    "            barcode.append(barcodes[i])\n",
    "            name.append((count[0].text).split(':')[1])\n",
    "            category.append((count[1].text).split(':')[1])\n",
    "            brand.append('Not given')\n",
    "        elif len(count)==5:\n",
    "            barcode.append(barcodes[i])\n",
    "            name.append((count[0].text).split(':')[1])\n",
    "            category.append((count[1].text).split(':')[1])\n",
    "            brand.append((count[2].text).split(':')[1])\n",
    "        else:\n",
    "            barcode.append(barcodes[i])\n",
    "            name.append('Not Found')\n",
    "            category.append('Not Found')\n",
    "            brand.append('Not Found')                     \n",
    "    except NoSuchElementException:                \n",
    "        continue\n",
    "        \n",
    "driver.close()\n",
    "        \n",
    "      \n"
   ]
  },
  {
   "cell_type": "code",
   "execution_count": null,
   "metadata": {},
   "outputs": [],
   "source": [
    "d={'Barcode':barcode,'Name':name,'Brand':brand,'Category':category}\n",
    "df=pd.DataFrame(d)  \n",
    "df=df[~df['Category'].isin(['Not Found'])]\n",
    "new=df['Category'].str.split('/',n=-2, expand=True).add_prefix('Sub-category- ')\n",
    "df['Category']=new['Sub-category- 0']\n",
    "df=pd.concat([df,new],axis=1)\n",
    "df.drop('Sub-category- 0',axis=1,inplace=True)"
   ]
  },
  {
   "cell_type": "code",
   "execution_count": null,
   "metadata": {},
   "outputs": [],
   "source": [
    "df.drop('Sub-category- 4',axis=1,inplace=True)"
   ]
  }
 ],
 "metadata": {
  "kernelspec": {
   "display_name": "Python 3",
   "language": "python",
   "name": "python3"
  },
  "language_info": {
   "codemirror_mode": {
    "name": "ipython",
    "version": 3
   },
   "file_extension": ".py",
   "mimetype": "text/x-python",
   "name": "python",
   "nbconvert_exporter": "python",
   "pygments_lexer": "ipython3",
   "version": "3.8.5"
  }
 },
 "nbformat": 4,
 "nbformat_minor": 4
}
